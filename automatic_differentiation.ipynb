{
  "nbformat": 4,
  "nbformat_minor": 0,
  "metadata": {
    "colab": {
      "provenance": [],
      "gpuType": "T4",
      "authorship_tag": "ABX9TyMkhucgN9tXhM7YzZeYib5M",
      "include_colab_link": true
    },
    "kernelspec": {
      "name": "python3",
      "display_name": "Python 3"
    },
    "language_info": {
      "name": "python"
    },
    "accelerator": "GPU"
  },
  "cells": [
    {
      "cell_type": "markdown",
      "metadata": {
        "id": "view-in-github",
        "colab_type": "text"
      },
      "source": [
        "<a href=\"https://colab.research.google.com/github/linhoangce/tensorflow_learning_stuff/blob/main/automatic_differentiation.ipynb\" target=\"_parent\"><img src=\"https://colab.research.google.com/assets/colab-badge.svg\" alt=\"Open In Colab\"/></a>"
      ]
    },
    {
      "cell_type": "code",
      "execution_count": 1,
      "metadata": {
        "id": "2d0XVK_Swtcp"
      },
      "outputs": [],
      "source": [
        "import numpy as np\n",
        "import matplotlib.pyplot as plt\n",
        "\n",
        "import tensorflow as tf"
      ]
    },
    {
      "cell_type": "markdown",
      "source": [
        "# Gradient tapes\n",
        "\n",
        "TensorFlow provides the `tf.GradientTape` APi for automatic differentiation; that is, computing the gradient of a computation with respect to some inputs, usually `tf.Variable`s. TensorFlow \"records\" relevant operations executed inside the context of a `tf.GradientTape` onto a \"tape\". TensorFlow then uses that tape to compute the gradients of a \"recorded\" computation using reverse mode differentiation."
      ],
      "metadata": {
        "id": "MG4tVXsmw6-f"
      }
    },
    {
      "cell_type": "code",
      "source": [
        "x = tf.Variable(3.)\n",
        "\n",
        "with tf.GradientTape() as tape:\n",
        "  y = x**2"
      ],
      "metadata": {
        "id": "COOT_jFZxjxK"
      },
      "execution_count": 2,
      "outputs": []
    },
    {
      "cell_type": "markdown",
      "source": [
        "Once some operations are recorded, use `GradientTape.gradient(target, sources)` to calculate the gradient of some target (often a loss) relative to some source (often the model's variables):"
      ],
      "metadata": {
        "id": "YlvPvsguxq4p"
      }
    },
    {
      "cell_type": "code",
      "source": [
        "dy_dx = tape.gradient(y, x)\n",
        "dy_dx.numpy()"
      ],
      "metadata": {
        "colab": {
          "base_uri": "https://localhost:8080/"
        },
        "id": "Eo2urdlWyFwZ",
        "outputId": "4e676df8-b7a7-4c22-9a05-a1cc2c931ef1"
      },
      "execution_count": 3,
      "outputs": [
        {
          "output_type": "execute_result",
          "data": {
            "text/plain": [
              "np.float32(6.0)"
            ]
          },
          "metadata": {},
          "execution_count": 3
        }
      ]
    },
    {
      "cell_type": "code",
      "source": [
        "# Tensor\n",
        "w = tf.Variable(tf.random.normal((3, 2)), name='w')\n",
        "b = tf.Variable(tf.zeros(2, dtype=tf.float32, name='b'))\n",
        "x = [[1., 2., 3.]]\n",
        "\n",
        "with tf.GradientTape(persistent=True) as tape:\n",
        "  y = x @ w + b\n",
        "  loss = tf.reduce_mean(y**2)"
      ],
      "metadata": {
        "id": "mR356xXByKO4"
      },
      "execution_count": 4,
      "outputs": []
    },
    {
      "cell_type": "markdown",
      "source": [
        "To get the gradient of `loss` with respect to both variables, we can pass both as sources to the gradient method. The tape is flexible about how sources are passed and will accept any nested combination of lists or dictionaries and return the gradient structured the same way."
      ],
      "metadata": {
        "id": "eiyEsPwXy1z8"
      }
    },
    {
      "cell_type": "code",
      "source": [
        "[dl_dw, dl_db] = tape.gradient(loss, [w, b])\n",
        "dl_dw, dl_db"
      ],
      "metadata": {
        "colab": {
          "base_uri": "https://localhost:8080/"
        },
        "id": "ZUQQqIIXzIxF",
        "outputId": "36722690-cefd-4e2c-f0f6-cf6de57eda35"
      },
      "execution_count": 5,
      "outputs": [
        {
          "output_type": "execute_result",
          "data": {
            "text/plain": [
              "(<tf.Tensor: shape=(3, 2), dtype=float32, numpy=\n",
              " array([[0.17393541, 1.9080842 ],\n",
              "        [0.34787083, 3.8161683 ],\n",
              "        [0.52180624, 5.7242527 ]], dtype=float32)>,\n",
              " <tf.Tensor: shape=(2,), dtype=float32, numpy=array([0.17393541, 1.9080842 ], dtype=float32)>)"
            ]
          },
          "metadata": {},
          "execution_count": 5
        }
      ]
    },
    {
      "cell_type": "code",
      "source": [
        "w.shape, dl_dw.shape, b.shape, dl_db.shape"
      ],
      "metadata": {
        "colab": {
          "base_uri": "https://localhost:8080/"
        },
        "id": "jGJU2c5fzPn2",
        "outputId": "aeae4997-ee2a-469c-aadf-c3f5dfd7e13b"
      },
      "execution_count": 6,
      "outputs": [
        {
          "output_type": "execute_result",
          "data": {
            "text/plain": [
              "(TensorShape([3, 2]), TensorShape([3, 2]), TensorShape([2]), TensorShape([2]))"
            ]
          },
          "metadata": {},
          "execution_count": 6
        }
      ]
    },
    {
      "cell_type": "code",
      "source": [
        "# calculate gradient with a dictionary of variables passed in\n",
        "my_vars = {\n",
        "    'w': w,\n",
        "    'b': b\n",
        "}\n",
        "\n",
        "grad = tape.gradient(loss, my_vars)\n",
        "grad['b']"
      ],
      "metadata": {
        "colab": {
          "base_uri": "https://localhost:8080/"
        },
        "id": "p_qLeWKwzY27",
        "outputId": "21ccef5a-ef87-4b15-f8b0-c69c8829b9c6"
      },
      "execution_count": 7,
      "outputs": [
        {
          "output_type": "execute_result",
          "data": {
            "text/plain": [
              "<tf.Tensor: shape=(2,), dtype=float32, numpy=array([0.17393541, 1.9080842 ], dtype=float32)>"
            ]
          },
          "metadata": {},
          "execution_count": 7
        }
      ]
    },
    {
      "cell_type": "markdown",
      "source": [
        "# Gradients with respect to a model\n",
        "\n",
        "It's common to collect `tf.Variable` into a `tf.Module` or one of its subclasses (layer.Layer, keras.Model) for checkpointing or exporting.\n",
        "\n",
        "In most cases, we wull watnt o calculate gradients with respect to a model's trainable variables. Since all subsclasses of `tf.Module` aggregate their vairbales in the `Module.trainable_variables` propety, we can calculate these gradients in a few lines of code:"
      ],
      "metadata": {
        "id": "-MQa5NFjzoOI"
      }
    },
    {
      "cell_type": "code",
      "source": [
        "layer = tf.keras.layers.Dense(2, activation='relu')\n",
        "x = tf.constant([[1., 2., 3.]])\n",
        "\n",
        "with tf.GradientTape() as tape:\n",
        "  # Forward pass\n",
        "  y = layer(x)\n",
        "  loss = tf.reduce_mean(y**2)\n",
        "\n",
        "\n",
        "# Calculate gradients with respect to every trainable variable\n",
        "grad = tape.gradient(loss, layer.trainable_variables)\n"
      ],
      "metadata": {
        "id": "NGSAUE9I083K"
      },
      "execution_count": 8,
      "outputs": []
    },
    {
      "cell_type": "code",
      "source": [
        "for var, g in zip(layer.trainable_variables, grad):\n",
        "  print(f\"{var.name}, shape: {g.shape}\")"
      ],
      "metadata": {
        "colab": {
          "base_uri": "https://localhost:8080/"
        },
        "id": "PoXcR8621VHu",
        "outputId": "9b4d041f-4f9b-4035-e214-5779fd6ad6a6"
      },
      "execution_count": 9,
      "outputs": [
        {
          "output_type": "stream",
          "name": "stdout",
          "text": [
            "kernel, shape: (3, 2)\n",
            "bias, shape: (2,)\n"
          ]
        }
      ]
    },
    {
      "cell_type": "markdown",
      "source": [
        "## Controlling what the tape watches\n",
        "\n",
        "The default behavior is to record all operations after accessing a trainable `tf.Variable`, because:\n",
        "\n",
        "* The tape needs to know which operations to record in the forward pass to calculate the gradietns in the backwards pass.\n",
        "\n",
        "* The tape holds references to intermediate outputs, so we don't want to record unnecessary operations.\n",
        "\n",
        "* The most common use case involves calculating the gradient of a loss with respect to all of a model's trainable variables."
      ],
      "metadata": {
        "id": "Xrlwy6N91jRi"
      }
    },
    {
      "cell_type": "code",
      "source": [
        "# This example fails to calculate the gradients because tf.Tensor is not \"watched\" by default, and tf.Variable is not trainable\n",
        "\n",
        "# A trainable variable\n",
        "x0 = tf.Variable(3.0, name='x0')\n",
        "\n",
        "# Not trainable\n",
        "x1 = tf.Variable(3., name='x1', trainable=False)\n",
        "\n",
        "# Not a Variable: A Variable + tensor returns a tensor\n",
        "x2 = tf.Variable(2., name='x2') + 1.0\n",
        "\n",
        "# not a Variable\n",
        "x3 = tf.constant(3., name='x3')\n",
        "\n",
        "with tf.GradientTape() as tape:\n",
        "  y = (x0**2) + (x1**2) + (x2**2)\n",
        "\n",
        "grad = tape.gradient(y, [x0, x1, x2])\n",
        "\n",
        "for g in grad:\n",
        "  print(g)"
      ],
      "metadata": {
        "colab": {
          "base_uri": "https://localhost:8080/"
        },
        "id": "NG45aVLI3Abz",
        "outputId": "cff5608c-084b-416f-8138-0cb36dfaeb4c"
      },
      "execution_count": 10,
      "outputs": [
        {
          "output_type": "stream",
          "name": "stdout",
          "text": [
            "tf.Tensor(6.0, shape=(), dtype=float32)\n",
            "None\n",
            "None\n"
          ]
        }
      ]
    },
    {
      "cell_type": "code",
      "source": [
        "# List the variables being watched by the tape\n",
        "[var.name for var in tape.watched_variables()]"
      ],
      "metadata": {
        "colab": {
          "base_uri": "https://localhost:8080/"
        },
        "id": "OX3LBIV534Ys",
        "outputId": "f5041c5f-a214-4b5f-f8be-77466949114f"
      },
      "execution_count": 11,
      "outputs": [
        {
          "output_type": "execute_result",
          "data": {
            "text/plain": [
              "['x0:0']"
            ]
          },
          "metadata": {},
          "execution_count": 11
        }
      ]
    },
    {
      "cell_type": "markdown",
      "source": [
        "`tf.GradientTape` provides hooks that give the user control over what is or is not watched.\n",
        "\n",
        "To record gradients with respect to a `tf.Tensor`, call `GradientTape.watch()`:"
      ],
      "metadata": {
        "id": "LFG711BK4MZC"
      }
    },
    {
      "cell_type": "code",
      "source": [
        "x = tf.constant(3.0)\n",
        "\n",
        "with tf.GradientTape() as tape:\n",
        "  tape.watch(x)\n",
        "  y = x**2\n",
        "\n",
        "dy_dx = tape.gradient(y, x)\n",
        "dy_dx.numpy()"
      ],
      "metadata": {
        "colab": {
          "base_uri": "https://localhost:8080/"
        },
        "id": "m7opllJVStSE",
        "outputId": "c5c761f7-c410-443a-8da4-ad40bd7cfae3"
      },
      "execution_count": 15,
      "outputs": [
        {
          "output_type": "execute_result",
          "data": {
            "text/plain": [
              "np.float32(6.0)"
            ]
          },
          "metadata": {},
          "execution_count": 15
        }
      ]
    },
    {
      "cell_type": "markdown",
      "source": [
        "To disable the default behavior of warching all `tf.Variables`, set `watch_accessed_variables=False` when creating the gradient tape. This calculation uses two variables, but only connects the gradient for one of the variables:"
      ],
      "metadata": {
        "id": "O9IpBAaWS5A6"
      }
    },
    {
      "cell_type": "code",
      "source": [
        "x0 = tf.Variable(0.)\n",
        "x1 = tf.Variable(10.)\n",
        "\n",
        "with tf.GradientTape(watch_accessed_variables=False) as tape:\n",
        "  tape.watch(x1)\n",
        "  y0 = tf.math.sin(x0)\n",
        "  y1 = tf.nn.softplus(x1)\n",
        "  y = y0 + y1\n",
        "  ys = tf.reduce_sum(y)"
      ],
      "metadata": {
        "id": "00lJz4O6TlPb"
      },
      "execution_count": 22,
      "outputs": []
    },
    {
      "cell_type": "markdown",
      "source": [
        "Since `GradientTape.watch` was not called on *x0*, no gradient is computed with respect to it:"
      ],
      "metadata": {
        "id": "l82zW6RjT7a_"
      }
    },
    {
      "cell_type": "code",
      "source": [
        "# dyx/dx1 = exp(x1) / (1 + exp(x1)) = sigmoid(x1)\n",
        "grad = tape.gradient(ys, {'x0': x0,\n",
        "                          'x1': x1})\n",
        "\n",
        "print(f\"dy/dx0 = {grad['x0']}\")\n",
        "print(f\"dy/dx1 = {grad['x1']}\")"
      ],
      "metadata": {
        "colab": {
          "base_uri": "https://localhost:8080/"
        },
        "id": "D1HjW0BFUF8I",
        "outputId": "385222f2-49ce-4380-8960-aeca0655c5d9"
      },
      "execution_count": 23,
      "outputs": [
        {
          "output_type": "stream",
          "name": "stdout",
          "text": [
            "dy/dx0 = None\n",
            "dy/dx1 = 0.9999545812606812\n"
          ]
        }
      ]
    },
    {
      "cell_type": "markdown",
      "source": [
        "## Intermediate results\n",
        "\n",
        "We can also request gradients of the output with respect to intermediate values computed inside the `tf.GradientTape` context."
      ],
      "metadata": {
        "id": "8LZoZQvXUYx4"
      }
    },
    {
      "cell_type": "code",
      "source": [
        "x = tf.constant(3.)\n",
        "\n",
        "with tf.GradientTape() as tape:\n",
        "  tape.watch(x)\n",
        "  y = x * x\n",
        "  z = y * y\n",
        "\n",
        "# Use the tape to compute the gradient of z with respect to the intermediate value y.\n",
        "# dx_dy = 2 * y and y = x**2 = 9\n",
        "tape.gradient(z, y).numpy()"
      ],
      "metadata": {
        "colab": {
          "base_uri": "https://localhost:8080/"
        },
        "id": "v7ZrsuvLU8jG",
        "outputId": "b69dc310-a9d0-4379-92cc-b2863e0b2511"
      },
      "execution_count": 24,
      "outputs": [
        {
          "output_type": "execute_result",
          "data": {
            "text/plain": [
              "np.float32(18.0)"
            ]
          },
          "metadata": {},
          "execution_count": 24
        }
      ]
    },
    {
      "cell_type": "markdown",
      "source": [
        "By default, the resources held by a `GradientTape` are released as soon as the `GradientTape.gradient` method is called. To compute multiple gradients over the same computation, create a gradient tape with `persistent=True`. This allows multiple calls to the gradient method as resources are released when the tape object is garbage collected."
      ],
      "metadata": {
        "id": "6BQwag6QVV7a"
      }
    },
    {
      "cell_type": "code",
      "source": [
        "x = tf.constant([1, 3.])\n",
        "\n",
        "with tf.GradientTape(persistent=True) as tape:\n",
        "  tape.watch(x)\n",
        "  y = x*x\n",
        "  z = y*y\n",
        "\n",
        "  print(tape.gradient(z, x).numpy())\n",
        "  print(tape.gradient(y, x).numpy())"
      ],
      "metadata": {
        "colab": {
          "base_uri": "https://localhost:8080/"
        },
        "id": "A2f83y6_VxYW",
        "outputId": "37dfe4b3-6c1d-4f6f-e4c2-ab13ff4e4568"
      },
      "execution_count": 29,
      "outputs": [
        {
          "output_type": "stream",
          "name": "stderr",
          "text": [
            "WARNING:tensorflow:Calling GradientTape.gradient on a persistent tape inside its context is significantly less efficient than calling it outside the context (it causes the gradient ops to be recorded on the tape, leading to increased CPU and memory usage). Only call GradientTape.gradient inside the context if you actually want to trace the gradient in order to compute higher order derivatives.\n",
            "WARNING:tensorflow:Calling GradientTape.gradient on a persistent tape inside its context is significantly less efficient than calling it outside the context (it causes the gradient ops to be recorded on the tape, leading to increased CPU and memory usage). Only call GradientTape.gradient inside the context if you actually want to trace the gradient in order to compute higher order derivatives.\n"
          ]
        },
        {
          "output_type": "stream",
          "name": "stdout",
          "text": [
            "[  4. 108.]\n",
            "[2. 6.]\n"
          ]
        }
      ]
    },
    {
      "cell_type": "code",
      "source": [
        "del tape # Drop the reference to the tape"
      ],
      "metadata": {
        "id": "TBZb2II6WLfG"
      },
      "execution_count": 30,
      "outputs": []
    },
    {
      "cell_type": "markdown",
      "source": [
        "## Notes on performance\n",
        "\n",
        "* There is a tiny overhead associated with doing operations inside a gradient tape context. For most eaget execution this will not be a noticeable cost, but we should stil use tape context around the areas only wehre it is required.\n",
        "\n",
        "* Gradient tapes use memory to store intermediate results, including inputs and outputs, for use during the backward pass.\n",
        "\n",
        "For efficiency, some ops (like `ReLU`) don't need to keep their intermediate results and they are pruned during the forward pass. However, if `persistent=True` is set on the tape, nothing is discarded and our peak memory usage will be higher."
      ],
      "metadata": {
        "id": "y574oGPDWueT"
      }
    },
    {
      "cell_type": "markdown",
      "source": [
        "## Gradients of non-scalar targets\n",
        "\n",
        "A gradient is fundamentally an operation on a scalar"
      ],
      "metadata": {
        "id": "mc_UCRhNXf18"
      }
    },
    {
      "cell_type": "code",
      "source": [
        "x = tf.Variable(2.)\n",
        "\n",
        "with tf.GradientTape(persistent=True) as tape:\n",
        "  y0 = x**2\n",
        "  y1 = 1 / x\n",
        "\n",
        "print(tape.gradient(y0, x).numpy())\n",
        "print(tape.gradient(y1, x).numpy())"
      ],
      "metadata": {
        "colab": {
          "base_uri": "https://localhost:8080/"
        },
        "id": "NJR_oeHlXmUh",
        "outputId": "60f08be5-1cd7-4fd2-8fbf-c1349c79e39e"
      },
      "execution_count": 33,
      "outputs": [
        {
          "output_type": "stream",
          "name": "stdout",
          "text": [
            "4.0\n",
            "-0.25\n"
          ]
        }
      ]
    },
    {
      "cell_type": "markdown",
      "source": [
        "Thus, if we ask for the gradient of multiple targets, the result for each source is:\n",
        "\n",
        "* the gradient of the sum of the targets, or equivalently\n",
        "* the sum of the gradients of each target"
      ],
      "metadata": {
        "id": "qGJod6KnX0rE"
      }
    },
    {
      "cell_type": "code",
      "source": [
        "x = tf.Variable(2.)\n",
        "\n",
        "with tf.GradientTape() as tape:\n",
        "  y0 = x**2\n",
        "  y1 = 1 / x\n",
        "\n",
        "  print(tape.gradient({'y0': y0,\n",
        "                       'y1': y1}, x).numpy())"
      ],
      "metadata": {
        "colab": {
          "base_uri": "https://localhost:8080/"
        },
        "id": "xS5qqulKYoCi",
        "outputId": "9ea5f46e-ab89-4d9a-b129-de0f3aa3d9b1"
      },
      "execution_count": 35,
      "outputs": [
        {
          "output_type": "stream",
          "name": "stdout",
          "text": [
            "3.75\n"
          ]
        }
      ]
    },
    {
      "cell_type": "markdown",
      "source": [
        "Similarly, if the target(s) are not scalar the gradient of the sum is calculated:"
      ],
      "metadata": {
        "id": "88BJjyIpY7C7"
      }
    },
    {
      "cell_type": "code",
      "source": [
        "x = tf.Variable(2.)\n",
        "\n",
        "with tf.GradientTape() as tape:\n",
        "  y = x * [3., 4.]\n",
        "\n",
        "print(tape.gradient(y, x).numpy())"
      ],
      "metadata": {
        "colab": {
          "base_uri": "https://localhost:8080/"
        },
        "id": "w2jZU6mMZLL9",
        "outputId": "0f027609-60cb-4551-8ef5-b8fbb26a4ae6"
      },
      "execution_count": 37,
      "outputs": [
        {
          "output_type": "stream",
          "name": "stdout",
          "text": [
            "7.0\n"
          ]
        }
      ]
    },
    {
      "cell_type": "markdown",
      "source": [
        "This makes it simple to take the gradient of the sum of a collection of losses, or the gradient of the sum of an element-wise loss calculation.\n",
        "\n",
        "If we need a separate gradient for each item, we use Jacobian matrix.\n",
        "\n",
        "In some case we can skip the Jacobian. For an element-wise calculation, the gradient of the sum gives the derivative of each element wiuth respect to its input-element, since each element is independent."
      ],
      "metadata": {
        "id": "gdw5R0iJZVb5"
      }
    },
    {
      "cell_type": "code",
      "source": [
        "x = tf.linspace(-10., 10., 200+1)\n",
        "\n",
        "with tf.GradientTape() as tape:\n",
        "  tape.watch(x)\n",
        "  y = tf.nn.sigmoid(x)\n",
        "\n",
        "dy_dx = tape.gradient(y, x)"
      ],
      "metadata": {
        "id": "9jcDjW4MeZF2"
      },
      "execution_count": 38,
      "outputs": []
    },
    {
      "cell_type": "code",
      "source": [
        "plt.plot(x, y, label='y')\n",
        "plt.plot(x, dy_dx, label='dx/dx')\n",
        "plt.legend()\n",
        "_= plt.xlabel('x')"
      ],
      "metadata": {
        "colab": {
          "base_uri": "https://localhost:8080/",
          "height": 449
        },
        "id": "Ux_HLp_BemrE",
        "outputId": "13bde389-326f-46b8-d62e-a328392307b7"
      },
      "execution_count": 40,
      "outputs": [
        {
          "output_type": "display_data",
          "data": {
            "text/plain": [
              "<Figure size 640x480 with 1 Axes>"
            ],
            "image/png": "[encoded data removed]"
          },
          "metadata": {}
        }
      ]
    },
    {
      "cell_type": "markdown",
      "source": [
        "## Control flow\n",
        "\n",
        "Because ta gradient tape recordds operations as they are executed, Python control flow is naturally handled (if and while statement)\n"
      ],
      "metadata": {
        "id": "t9eyOXxuexIr"
      }
    },
    {
      "cell_type": "code",
      "source": [
        "x = tf.constant(1.)\n",
        "\n",
        "v0 = tf.Variable(2.)\n",
        "v1 = tf.Variable(2.)\n",
        "\n",
        "with tf.GradientTape(persistent=True) as tape:\n",
        "  tape.watch(x)\n",
        "  if x > 0.0:\n",
        "    result = v0\n",
        "  else:\n",
        "    result = v1**2\n",
        "\n",
        "dv0, dv1 = tape.gradient(result, [v0, v1])\n",
        "\n",
        "dv0, dv1"
      ],
      "metadata": {
        "colab": {
          "base_uri": "https://localhost:8080/"
        },
        "id": "RVbeGoILfZAC",
        "outputId": "7dd0ca17-d637-46d2-f3d5-588c320db06a"
      },
      "execution_count": 41,
      "outputs": [
        {
          "output_type": "execute_result",
          "data": {
            "text/plain": [
              "(<tf.Tensor: shape=(), dtype=float32, numpy=1.0>, None)"
            ]
          },
          "metadata": {},
          "execution_count": 41
        }
      ]
    },
    {
      "cell_type": "markdown",
      "source": [
        "## Cases where gradient returns **None**\n",
        "\n",
        "When a target is not connected to a source, `gradient` will return `None`"
      ],
      "metadata": {
        "id": "pWL8Ur-Mfuoh"
      }
    },
    {
      "cell_type": "code",
      "source": [
        "x = tf.Variable(2.)\n",
        "y = tf.Variable(3.)\n",
        "\n",
        "with tf.GradientTape() as tape:\n",
        "  z = y * y\n",
        "print(tape.gradient(z, x))"
      ],
      "metadata": {
        "colab": {
          "base_uri": "https://localhost:8080/"
        },
        "id": "YGxwbWOWgpMX",
        "outputId": "8e67ee52-6f97-4454-c0d0-8e70f93c2a17"
      },
      "execution_count": 42,
      "outputs": [
        {
          "output_type": "stream",
          "name": "stdout",
          "text": [
            "None\n"
          ]
        }
      ]
    },
    {
      "cell_type": "markdown",
      "source": [
        "Here `z` is obvioulsy not connected to `x`, but there are several less-obvious ways that a gradient can be disconnected."
      ],
      "metadata": {
        "id": "V-jAuYxAg5ki"
      }
    },
    {
      "cell_type": "markdown",
      "source": [
        "### 1. Replaced a variable with a tensor\n",
        "\n",
        "One common error is to inadvertently replace a `tf.Variable` with a `tf.Tensor`, instead of using `Variable.assign` to update the `tf.Variable`."
      ],
      "metadata": {
        "id": "EndT70tohFRC"
      }
    },
    {
      "cell_type": "code",
      "source": [
        "x = tf.Variable(2.)\n",
        "\n",
        "for epoch in range(2):\n",
        "  with tf.GradientTape() as tape:\n",
        "    y = x+1\n",
        "\n",
        "  print(type(x).__name__, \":\", tape.gradient(y, x))\n",
        "  x = x + 1 # This should `x.assign_add(1)"
      ],
      "metadata": {
        "id": "pAGHxEuYhU3N",
        "colab": {
          "base_uri": "https://localhost:8080/"
        },
        "outputId": "6ded21b1-9600-42a5-b18b-0fb8aba1d908"
      },
      "execution_count": 45,
      "outputs": [
        {
          "output_type": "stream",
          "name": "stdout",
          "text": [
            "ResourceVariable : tf.Tensor(1.0, shape=(), dtype=float32)\n",
            "EagerTensor : None\n"
          ]
        }
      ]
    },
    {
      "cell_type": "markdown",
      "source": [
        "### 2. Did calculation outside of TensorFlow\n",
        "\n",
        "The tape can't record the gradient path if the calculation exits TensorFlow."
      ],
      "metadata": {
        "id": "68zBMI-Nhjxh"
      }
    },
    {
      "cell_type": "code",
      "source": [
        "x = tf.Variable([[1., 2.],\n",
        "                 [3., 4.]], dtype=tf.float32)\n",
        "\n",
        "with tf.GradientTape() as tape:\n",
        "  x2 = x**2\n",
        "\n",
        "  # This step is calculated with NumPy\n",
        "  y = np.mean(x2, axis=0)\n",
        "\n",
        "  # Like most ops, recude_mean will cast the NumPy array to a constant tensor\n",
        "  # using `tf.convert_to_tensor`\n",
        "  y = tf.reduce_mean(y, axis=0)\n",
        "\n",
        "print(tape.gradient(y, x))"
      ],
      "metadata": {
        "colab": {
          "base_uri": "https://localhost:8080/"
        },
        "id": "K0mwUKwPiCCi",
        "outputId": "23a42bcc-e4d0-482f-faa8-1507f2def7b4"
      },
      "execution_count": 49,
      "outputs": [
        {
          "output_type": "stream",
          "name": "stdout",
          "text": [
            "None\n"
          ]
        }
      ]
    },
    {
      "cell_type": "markdown",
      "source": [
        "### 3. Took gradients through an integer or string\n",
        "\n",
        "Integers and strings are not differentiable. If a calculation path uses these data types there will be no gradient.\n",
        "\n",
        "Nobody expects strings to be differentiable, but it's easy to accidentally create an `int` constant or variable if we don't specify the `dtype`:\n"
      ],
      "metadata": {
        "id": "nSlg71s9iaKp"
      }
    },
    {
      "cell_type": "code",
      "source": [
        "x = tf.constant(10)\n",
        "\n",
        "with tf.GradientTape() as g:\n",
        "  g.watch(x)\n",
        "  y = x * x\n",
        "\n",
        "print(g.gradient(y, x))"
      ],
      "metadata": {
        "colab": {
          "base_uri": "https://localhost:8080/"
        },
        "id": "9moS1hhbi-gI",
        "outputId": "6f730119-7351-4429-8820-4f483aa5d0a9"
      },
      "execution_count": 50,
      "outputs": [
        {
          "output_type": "stream",
          "name": "stderr",
          "text": [
            "WARNING:tensorflow:The dtype of the watched tensor must be floating (e.g. tf.float32), got tf.int32\n"
          ]
        },
        {
          "output_type": "stream",
          "name": "stdout",
          "text": [
            "None\n"
          ]
        }
      ]
    },
    {
      "cell_type": "code",
      "source": [
        "# TensorFlow doesn't automatically cast between types so, in practice, we'll often get a type error instead of missing gradient.\n",
        "x = tf.constant(10, dtype=tf.float32)\n",
        "\n",
        "with tf.GradientTape() as g:\n",
        "  g.watch(x)\n",
        "  y = x**2\n",
        "\n",
        "print(g.gradient(y, x))"
      ],
      "metadata": {
        "colab": {
          "base_uri": "https://localhost:8080/"
        },
        "id": "7NSfoAlejIDD",
        "outputId": "19d31e38-860e-4a5c-838f-6fcf3df74402"
      },
      "execution_count": 51,
      "outputs": [
        {
          "output_type": "stream",
          "name": "stdout",
          "text": [
            "tf.Tensor(20.0, shape=(), dtype=float32)\n"
          ]
        }
      ]
    },
    {
      "cell_type": "markdown",
      "source": [
        "### 4. Took gradients through a stateful object\n",
        "\n",
        "State stops gradients. When we read from stateful object, the tape can only observe the current state, not the history that lead to it.\n",
        "\n",
        "A `tf.Tensor` is immutable. WE can't change a tensor once it's created. It has a value, but no state. All the operations discussed so far are also stateless: the output of a `tf.matmul` only depends on its inputs.\n",
        "\n",
        "A `tf.Variable` has internal state - its value. When we use the variable, the state is read. It's normal to calculate a gradient with respect to a variable, but the variable's state blocks gradient calculations from going farther back."
      ],
      "metadata": {
        "id": "JhdRd-TjjjgD"
      }
    },
    {
      "cell_type": "code",
      "source": [
        "x0 = tf.Variable(3.)\n",
        "x1 = tf.Variable(0.)\n",
        "\n",
        "with tf.GradientTape() as tape:\n",
        "  # Update x1 = x1 + x0\n",
        "  x1.assign_add(x0)\n",
        "  # The tape starts recording from x1\n",
        "  y = x1**2 # y = (x1 + x0) **2\n",
        "\n",
        "# This doesn't work\n",
        "print(tape.gradient(y, x0)) # dy/dx0 = 2*(x1 + x0)"
      ],
      "metadata": {
        "colab": {
          "base_uri": "https://localhost:8080/"
        },
        "id": "0aZogcd9kPVj",
        "outputId": "66fd329c-1d56-4c77-fef8-8c2a76c479fb"
      },
      "execution_count": 54,
      "outputs": [
        {
          "output_type": "stream",
          "name": "stdout",
          "text": [
            "None\n"
          ]
        }
      ]
    },
    {
      "cell_type": "markdown",
      "source": [
        "Similarly, `tf.data.Dataset` iterators and `tf.queue` are stateful, and will stop all gradients on tensors that pass through them."
      ],
      "metadata": {
        "id": "XDQJmYkWk06H"
      }
    },
    {
      "cell_type": "markdown",
      "source": [
        "## No gradients registered\n",
        "\n",
        "Some `tf.Operation`s are **registered as being non-differentiable** and will return `None`. Others have **no gradient registered**.\n",
        "\n",
        "If we attempt to take a gradient through a float op that has no gradient registered the tape will throw an error instead of silently returning `None`. This way we know something has gone wrong.\n",
        "\n",
        "For example, the `tf.image.adjust_contrast` function wraps `raw_ops.AdjustConstrastv2`, which could have a gradient but the gradient is not implemented."
      ],
      "metadata": {
        "id": "3FdYOEULlMi7"
      }
    },
    {
      "cell_type": "code",
      "source": [
        "image = tf.Variable([[[0.5, 0., 0.]]])\n",
        "delta = tf.Variable(0.1)\n",
        "\n",
        "with tf.GradientTape() as tape:\n",
        "  new_image = tf.image.adjust_contrast(image, delta)\n",
        "\n",
        "try:\n",
        "  print(tape.gradient(new_image, [image, delta]))\n",
        "  assert False; # this should not happen\n",
        "except LookupError as e:\n",
        "  print(f'{type(e).__name__} : {e}')"
      ],
      "metadata": {
        "colab": {
          "base_uri": "https://localhost:8080/"
        },
        "id": "ZZIBhu0emnKR",
        "outputId": "9e5daf53-ca20-483e-fb09-bb01b02aaf9e"
      },
      "execution_count": 57,
      "outputs": [
        {
          "output_type": "stream",
          "name": "stdout",
          "text": [
            "LookupError : gradient registry has no entry for: AdjustContrastv2\n"
          ]
        }
      ]
    },
    {
      "cell_type": "markdown",
      "source": [
        "If we need to differentiate through this op, we'll either need to implement the gradient and register it (using `tf.RegisterGradient`) or re-implement the function using other ops."
      ],
      "metadata": {
        "id": "6CVStKoXnDEK"
      }
    },
    {
      "cell_type": "markdown",
      "source": [
        "## Zeros instead of None\n",
        "\n",
        "In some cases it would be convenient to get 0 instead of *None* for unconnected gradients. We can decide what to return when we have unconnected gradients using the `unconnected_gradients` argument:"
      ],
      "metadata": {
        "id": "IH0JkUE2nrw-"
      }
    },
    {
      "cell_type": "code",
      "source": [
        "x = tf.Variable([2., 2.])\n",
        "y = tf.Variable(3.)\n",
        "\n",
        "with tf.GradientTape() as tape:\n",
        "  z = y**2\n",
        "\n",
        "print(tape.gradient(z, x, unconnected_gradients=tf.UnconnectedGradients.ZERO))"
      ],
      "metadata": {
        "colab": {
          "base_uri": "https://localhost:8080/"
        },
        "id": "0EXvHwDIn56z",
        "outputId": "17ff2310-6334-4226-9af2-16f0307ae04d"
      },
      "execution_count": 58,
      "outputs": [
        {
          "output_type": "stream",
          "name": "stdout",
          "text": [
            "tf.Tensor([0. 0.], shape=(2,), dtype=float32)\n"
          ]
        }
      ]
    },
    {
      "cell_type": "code",
      "source": [],
      "metadata": {
        "id": "meTmKTv2oKLw"
      },
      "execution_count": null,
      "outputs": []
    }
  ]
}